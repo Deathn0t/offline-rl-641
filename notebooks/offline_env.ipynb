{
 "cells": [
  {
   "cell_type": "code",
   "execution_count": 1,
   "metadata": {},
   "outputs": [],
   "source": [
    "import torch\n",
    "import torch.nn as nn\n",
    "import torch.optim as optim\n",
    "import torch.nn.functional as F\n",
    "from torch.utils.tensorboard import SummaryWriter\n",
    "\n",
    "import argparse\n",
    "from distutils.util import strtobool\n",
    "import collections\n",
    "import numpy as np\n",
    "import gym\n",
    "import json\n",
    "from gym.wrappers import TimeLimit, Monitor\n",
    "from gym.spaces import Discrete, Box, MultiBinary, MultiDiscrete, Space\n",
    "import time\n",
    "import random\n",
    "import os\n",
    "from gym import spaces\n",
    "from sklearn.metrics import top_k_accuracy_score\n",
    "from sklearn.metrics import accuracy_score\n",
    "\n",
    "from tqdm import tqdm \n",
    "\n",
    "import math\n",
    "\n",
    "from itertools import count\n",
    "\n",
    "import gym\n",
    "from gym import error, spaces, utils\n",
    "from gym.utils import seeding\n",
    "from sklearn.model_selection import train_test_split\n",
    "\n",
    "from collections import namedtuple\n",
    "\n",
    "import copy\n",
    "import matplotlib.pyplot as plt\n",
    "%matplotlib inline"
   ]
  },
  {
   "cell_type": "code",
   "execution_count": 2,
   "metadata": {},
   "outputs": [],
   "source": [
    "def sort_by_x(X):\n",
    "    for i,data in enumerate(X):\n",
    "        middle_point = int(len(data)/2)\n",
    "        x = data[:middle_point]\n",
    "        y = data[middle_point:]\n",
    "        sorted_xy = np.asarray([[a,x] for a,x in sorted(zip(data[:middle_point],data[middle_point:]))])\n",
    "        new_data = np.concatenate((sorted_xy[:,0], sorted_xy[:,1]), axis=None)\n",
    "        X[i] = new_data\n",
    "    return X"
   ]
  },
  {
   "cell_type": "code",
   "execution_count": 3,
   "metadata": {},
   "outputs": [],
   "source": [
    "N_DISCRETE_ACTIONS = 5 # Number of networks\n",
    "\n",
    "class NAS_Env(gym.Env):\n",
    "    metadata = {'render.modes': ['human']}\n",
    "\n",
    "    def __init__(self, \n",
    "                 data_path, \n",
    "                 reward_penalty=0.01, \n",
    "                 naction_ending=5, \n",
    "                 step_sampling=False, \n",
    "                 offline_max_remove_data_perc = 0.3, \n",
    "                 offline_max_remove_network = 2):\n",
    "        \n",
    "        super(NAS_Env, self).__init__()\n",
    "    # Define action and observation space\n",
    "    # They must be gym.spaces objects\n",
    "    # Example when using discrete actions:\n",
    "        \n",
    "        self.data_path = data_path\n",
    "        self.offline_max_remove_data_perc = offline_max_remove_data_perc\n",
    "        self.offline_max_remove_network = offline_max_remove_network \n",
    "        \n",
    "        self.X_train, self.y_train, self.X_test, self.y_test, self.r_train, self.r_test = self.load_data()\n",
    "        \n",
    "        self.format_offline_train()\n",
    "        self.format_offline_test()\n",
    "        \n",
    "        self.reward_range = (-1,1)\n",
    "        self.action_space = spaces.Discrete(N_DISCRETE_ACTIONS)\n",
    "        self.observation_space = spaces.Box(low=-5, high=5, shape=(2, 80), dtype=np.float16)\n",
    "        \n",
    "        self.reward_penalty = reward_penalty\n",
    "        self.naction_ending = naction_ending\n",
    "        self.step_sampling = step_sampling\n",
    "        \n",
    "        self.set_train_mode()\n",
    "        \n",
    "        self.current_dataset_id  = 0\n",
    "        \n",
    "        self.set_current_dataset()\n",
    "        \n",
    "        self.current_mask = []\n",
    "        self.current_step = 1\n",
    "        self.current_observation = self.get_observation()\n",
    "        #print(\"Current observation\", self.current_observation)\n",
    "        \n",
    "        self.history_action = []\n",
    "        self.history_rewards = []\n",
    "        self.history_max_possible_rewards = []\n",
    "        \n",
    "        \n",
    "        \n",
    "    def set_train_mode(self):\n",
    "        \n",
    "        self.datasets = self.X_train\n",
    "        self.ys = self.y_train\n",
    "        self.rewards = self.r_train\n",
    "        \n",
    "    def set_test_mode(self):\n",
    "        \n",
    "        self.datasets = self.X_test\n",
    "        self.ys = self.y_test\n",
    "        self.rewards = self.r_test \n",
    "        \n",
    "    def set_current_dataset(self):\n",
    "        \n",
    "        self.current_dataset = self.datasets[self.current_dataset_id].reshape((2,80))\n",
    "        self.current_ys = self.ys[self.current_dataset_id]\n",
    "        self.current_rewards = self.rewards[self.current_dataset_id] \n",
    "        self.current_possible_actions = [i for i in range(5) if np.isnan(self.current_rewards[i]) == False]\n",
    "        #print(self.current_rewards)\n",
    "        #print(self.current_possible_actions)\n",
    "         \n",
    "    def step(self, action):\n",
    "        \n",
    "        \n",
    "        done = (self.current_step >= self.naction_ending and len(np.unique(\n",
    "            self.history_action[-self.naction_ending:])) == 1) or (self.current_step == self.current_dataset.shape[1] - 1)\n",
    "        \n",
    "        \n",
    "        full_reward = self.current_rewards[action]\n",
    "        discounted_reward = full_reward * np.exp(-self.current_step * self.reward_penalty)\n",
    "        \n",
    "        max_possible_reward = max(self.current_rewards)\n",
    "        discounted_max_possible_reward = max_possible_reward * np.exp(-self.current_step * self.reward_penalty)\n",
    "        \n",
    "        self.history_action.append(action)\n",
    "        self.history_rewards.append(discounted_reward)\n",
    "        self.history_max_possible_rewards.append(discounted_max_possible_reward)\n",
    "        \n",
    "        \n",
    "        self.current_step +=1\n",
    "        #print(self.current_step)\n",
    "        self.current_observation = self.get_observation()\n",
    "        #print(\"Current observation\", self.current_observation)\n",
    "        \n",
    "        return self.current_observation, discounted_reward, done, \"\"\n",
    "        \n",
    "         \n",
    "    def get_observation(self):\n",
    "        \n",
    "         # Mask\n",
    "        step_mask = np.zeros(self.current_dataset.shape[1])\n",
    "        #step_mask[:self.current_step] = 1.0\n",
    "        \n",
    "        if self.step_sampling:\n",
    "            available_idxs = list(set(range(len(step_mask))).difference(set(self.current_mask)))\n",
    "            chosen_idx = np.random.choice(available_idxs)\n",
    "            self.current_mask.append(chosen_idx)\n",
    "        else:\n",
    "            self.current_mask = list(range(self.current_step))\n",
    "        \n",
    "        step_mask[self.current_mask] = 1.0\n",
    "        \n",
    "        new_obs = copy.deepcopy(self.current_dataset)\n",
    "        \n",
    "        new_obs[0, :] = new_obs[0,:] * step_mask\n",
    "        new_obs[1, :] = new_obs[1,:] * step_mask\n",
    "        return new_obs\n",
    "         \n",
    "    # Execute one time step within the environment\n",
    "    \n",
    "    def reset(self, train = False):\n",
    "        \n",
    "        if train == True:\n",
    "            self.set_train_mode()\n",
    "        else:\n",
    "            self.set_test_mode()\n",
    "            \n",
    "        self.current_dataset_id  = random.randint(0, self.datasets.shape[0]-1)\n",
    "        self.set_current_dataset()\n",
    "        \n",
    "        self.current_mask = []\n",
    "        self.current_step = 1\n",
    "        self.current_observation = self.get_observation()\n",
    "        \n",
    "        self.history_action = []\n",
    "        self.history_rewards = []\n",
    "        self.history_max_possible_rewards = []\n",
    "        \n",
    "\n",
    "    # Reset the state of the environment to an initial state\n",
    "    \n",
    "    def render(self, mode='human', close=False):\n",
    "        print(\"lol\")\n",
    "    # Render the environment to the screen\n",
    "    \n",
    "    def load_data(self):\n",
    "        \n",
    "        with open(self.data_path, \"r\") as f:\n",
    "            data = json.load(f)\n",
    "        # # keep only winning networks\n",
    "        X, y, r = [], [], []\n",
    "        n_networks = len(np.unique(data[\"actions\"]))\n",
    "        n_func = len(data[\"states\"]) // n_networks\n",
    "        # # print(n_networks, n_func)\n",
    "        for f_i in range(n_func):\n",
    "            scores_i = []\n",
    "            actions_i = []\n",
    "            for n_i in range(n_networks):\n",
    "                i = f_i * n_networks + n_i\n",
    "                scores_i.append(data[\"scores\"][i])\n",
    "                actions_i.append(data[\"actions\"][i])\n",
    "            X.append(data[\"states\"][i])\n",
    "            y.append(actions_i)\n",
    "            r.append(scores_i)\n",
    "        X = np.array(X)\n",
    "        y = np.array(y)\n",
    "        r = np.array(r)\n",
    "        \n",
    "        print(X.shape)\n",
    "        print(y.shape)\n",
    "        print(r.shape)\n",
    "        # fix action ordering\n",
    "        print(y)\n",
    "        idx_order = np.argsort(y[0])\n",
    "        y = y[:, idx_order]\n",
    "        r = r[:, idx_order]\n",
    "        idxs = np.arange(X.shape[0])\n",
    "        test_split = int(0.33 * len(idxs))\n",
    "        np.random.shuffle(idxs)\n",
    "        \n",
    "        idxs_train = idxs[:-test_split]\n",
    "        idxs_test = idxs[-test_split:]\n",
    "        \n",
    "        X_train = X[idxs_train]\n",
    "        y_train = y[idxs_train]\n",
    "        r_train = r[idxs_train]\n",
    "        \n",
    "        X_test = X[idxs_test]\n",
    "        y_test = y[idxs_test]\n",
    "        r_test = r[idxs_test]\n",
    "        \n",
    "        return sort_by_x(X_train), y_train, sort_by_x(X_test), y_test, r_train, r_test \n",
    "    \n",
    "\n",
    "    def format_offline_train(self):\n",
    "        \n",
    "        for i, (x, r) in enumerate(zip(self.X_train, self.r_train)):\n",
    "    \n",
    "            number_max_to_be_removed = int(self.offline_max_remove_data_perc * 80) \n",
    "            number_to_be_removed = np.random.randint(number_max_to_be_removed, size=1)[0]\n",
    "    \n",
    "            if number_to_be_removed > 0:\n",
    "    \n",
    "                index_to_be_removed = np.array(random.sample(range(0, 80), number_to_be_removed))\n",
    "                index_to_be_removed2 = index_to_be_removed + 80\n",
    "    \n",
    "                total_index = np.concatenate((index_to_be_removed, index_to_be_removed2))\n",
    "                x[total_index] = 0.0\n",
    "        \n",
    "            number_network_to_be_removed = np.random.randint(self.offline_max_remove_network, size=1)[0]\n",
    "    \n",
    "            if number_network_to_be_removed  > 0:\n",
    "    \n",
    "                index_network_to_be_removed = np.array(random.sample(range(0, 5), number_network_to_be_removed))\n",
    "                r[index_network_to_be_removed] = None\n",
    "            \n",
    "    def format_offline_test(self):\n",
    "        \n",
    "        for i, (x, r) in enumerate(zip(self.X_test, self.r_test)):\n",
    "    \n",
    "            number_max_to_be_removed = int(self.offline_max_remove_data_perc * 80) \n",
    "            number_to_be_removed = np.random.randint(number_max_to_be_removed, size=1)[0]\n",
    "    \n",
    "            if number_to_be_removed > 0:\n",
    "    \n",
    "                index_to_be_removed = np.array(random.sample(range(0, 80), number_to_be_removed))\n",
    "                index_to_be_removed2 = index_to_be_removed + 80\n",
    "    \n",
    "                total_index = np.concatenate((index_to_be_removed, index_to_be_removed2))\n",
    "                x[total_index] = 0.0\n",
    "        \n",
    "            number_network_to_be_removed = np.random.randint(self.offline_max_remove_network, size=1)[0]\n",
    "    \n",
    "            if number_network_to_be_removed  > 0:\n",
    "    \n",
    "                index_network_to_be_removed = np.array(random.sample(range(0, 5), number_network_to_be_removed))\n",
    "                r[index_network_to_be_removed] = None\n",
    "        \n",
    "        \n"
   ]
  },
  {
   "cell_type": "code",
   "execution_count": 4,
   "metadata": {},
   "outputs": [
    {
     "name": "stdout",
     "output_type": "stream",
     "text": [
      "(900, 160)\n",
      "(900, 5)\n",
      "(900, 5)\n",
      "[[2 0 3 1 4]\n",
      " [2 0 3 1 4]\n",
      " [2 0 3 1 4]\n",
      " ...\n",
      " [2 0 3 1 4]\n",
      " [2 0 3 1 4]\n",
      " [2 0 3 1 4]]\n"
     ]
    }
   ],
   "source": [
    "data_path = \"polynome_ready_for_training.json\"\n",
    "SHUFFLE_SAMPLES = True\n",
    "\n",
    "env = NAS_Env(data_path, \n",
    "              reward_penalty=0.001,\n",
    "              naction_ending=5, \n",
    "              step_sampling=SHUFFLE_SAMPLES, \n",
    "              offline_max_remove_data_perc = 0.2,\n",
    "              offline_max_remove_network = 1)"
   ]
  },
  {
   "cell_type": "code",
   "execution_count": 5,
   "metadata": {},
   "outputs": [
    {
     "data": {
      "text/plain": [
       "array([0.82888978, 0.76722944, 0.66277171, 0.23983948, 0.39052135])"
      ]
     },
     "execution_count": 5,
     "metadata": {},
     "output_type": "execute_result"
    }
   ],
   "source": [
    "env.current_rewards"
   ]
  },
  {
   "cell_type": "code",
   "execution_count": 6,
   "metadata": {},
   "outputs": [
    {
     "name": "stdout",
     "output_type": "stream",
     "text": [
      "Training True best network distribution\n"
     ]
    },
    {
     "data": {
      "image/png": "[encoded data removed]",
      "text/plain": [
       "<Figure size 432x288 with 1 Axes>"
      ]
     },
     "metadata": {
      "needs_background": "light"
     },
     "output_type": "display_data"
    }
   ],
   "source": [
    "print(\"Training True best network distribution\")\n",
    "plt.bar(x = list(range(5)), height= np.bincount(np.argmax(env.r_train, axis=1)))\n",
    "plt.show()"
   ]
  },
  {
   "cell_type": "code",
   "execution_count": 7,
   "metadata": {},
   "outputs": [
    {
     "name": "stdout",
     "output_type": "stream",
     "text": [
      "Training True best network distribution\n"
     ]
    },
    {
     "data": {
      "image/png": "[encoded data removed]",
      "text/plain": [
       "<Figure size 432x288 with 1 Axes>"
      ]
     },
     "metadata": {
      "needs_background": "light"
     },
     "output_type": "display_data"
    }
   ],
   "source": [
    "print(\"Training True best network distribution\")\n",
    "plt.bar(x = list(range(5)), height= np.bincount(np.argmax(env.r_test, axis=1)))\n",
    "plt.show()"
   ]
  },
  {
   "cell_type": "code",
   "execution_count": 8,
   "metadata": {},
   "outputs": [],
   "source": [
    "Transition = namedtuple('Transition',\n",
    "                        ('state', 'action', 'next_state', 'reward'))\n",
    "\n",
    "class ReplayMemory(object):\n",
    "\n",
    "    def __init__(self, capacity):\n",
    "        self.capacity = capacity\n",
    "        self.memory = []\n",
    "        self.position = 0\n",
    "\n",
    "    def push(self, *args):\n",
    "        \"\"\"Saves a transition.\"\"\"\n",
    "        if len(self.memory) < self.capacity:\n",
    "            self.memory.append(None)\n",
    "        else:\n",
    "            return False\n",
    "        self.memory[self.position] = Transition(*args)\n",
    "        self.position = (self.position + 1) % self.capacity\n",
    "        return True\n",
    "\n",
    "    def sample(self, batch_size):\n",
    "        return random.sample(self.memory, batch_size)\n",
    "\n",
    "    def __len__(self):\n",
    "        return len(self.memory)\n",
    "    \n",
    "    def reset(self):\n",
    "        self.memory = []\n",
    "        self.position = 0 "
   ]
  },
  {
   "cell_type": "code",
   "execution_count": 9,
   "metadata": {},
   "outputs": [],
   "source": [
    "class DQN(nn.Module):\n",
    "    def __init__(self, env):\n",
    "        super(DQN, self).__init__()\n",
    "        \n",
    "        self.fc1 = nn.Linear(env.observation_space.shape[0]* env.observation_space.shape[1], 64)\n",
    "        self.bn1 = nn.BatchNorm1d(64)\n",
    "        self.fc2 = nn.Linear(64, 64)\n",
    "        self.bn2 = nn.BatchNorm1d(64)\n",
    "        self.fc3 = nn.Linear(64, env.action_space.n)\n",
    "\n",
    "    def forward(self, x):\n",
    "        x = x.float()\n",
    "        x = F.relu(self.bn1(self.fc1(x)))\n",
    "        x = F.relu(self.bn2(self.fc2(x)))\n",
    "        x = torch.tanh(self.fc3(x))\n",
    "        return x"
   ]
  },
  {
   "cell_type": "code",
   "execution_count": 10,
   "metadata": {},
   "outputs": [
    {
     "data": {
      "text/plain": [
       "DQN(\n",
       "  (fc1): Linear(in_features=160, out_features=64, bias=True)\n",
       "  (bn1): BatchNorm1d(64, eps=1e-05, momentum=0.1, affine=True, track_running_stats=True)\n",
       "  (fc2): Linear(in_features=64, out_features=64, bias=True)\n",
       "  (bn2): BatchNorm1d(64, eps=1e-05, momentum=0.1, affine=True, track_running_stats=True)\n",
       "  (fc3): Linear(in_features=64, out_features=5, bias=True)\n",
       ")"
      ]
     },
     "execution_count": 10,
     "metadata": {},
     "output_type": "execute_result"
    }
   ],
   "source": [
    "policy_net = DQN(env)\n",
    "target_net = DQN(env)\n",
    "target_net.load_state_dict(policy_net.state_dict())\n",
    "target_net.eval()"
   ]
  },
  {
   "cell_type": "code",
   "execution_count": 11,
   "metadata": {},
   "outputs": [],
   "source": [
    "optimizer = optim.RMSprop(policy_net.parameters())\n",
    "memory = ReplayMemory(100000)"
   ]
  },
  {
   "cell_type": "code",
   "execution_count": 16,
   "metadata": {},
   "outputs": [],
   "source": [
    "total_steps_done = 0\n",
    "\n",
    "TARGET_UPDATE = 5\n",
    "BATCH_SIZE = 20\n",
    "GAMMA = 0.99\n",
    "EPS_START = 0.9\n",
    "EPS_END = 0.05\n",
    "EPS_DECAY = 500\n",
    "\n",
    "def get_action(state):\n",
    "    \n",
    "    global total_steps_done\n",
    "    sample = random.random()\n",
    "    \n",
    "    eps_threshold = EPS_END + (EPS_START - EPS_END) * \\\n",
    "        math.exp(-1. * total_steps_done / EPS_DECAY)\n",
    "    \n",
    "    total_steps_done += 1\n",
    "    \n",
    "    if sample > eps_threshold:\n",
    "        with torch.no_grad():\n",
    "            policy_net.eval()\n",
    "            actions = policy_net(state)\n",
    "            policy_net.train()\n",
    "            \n",
    "            ranking = torch.argsort(actions, descending=True)[0]\n",
    "            for action_candidate in ranking:\n",
    "                if action_candidate in env.current_possible_actions:\n",
    "                    return torch.tensor(action_candidate, dtype=torch.int64)\n",
    "            \n",
    "            \n",
    "    else:\n",
    "        return torch.tensor(np.random.choice(env.current_possible_actions), dtype=torch.int64)\n",
    "\n",
    "\n",
    "def optimize_model():\n",
    "    if len(memory) < BATCH_SIZE:\n",
    "        return\n",
    "    transitions = memory.sample(BATCH_SIZE)\n",
    "    # Transpose the batch (see https://stackoverflow.com/a/19343/3343043 for\n",
    "    # detailed explanation). This converts batch-array of Transitions\n",
    "    # to Transition of batch-arrays.\n",
    "    batch = Transition(*zip(*transitions))\n",
    "\n",
    "    # Compute a mask of non-final states and concatenate the batch elements\n",
    "    # (a final state would've been the one after which simulation ended)\n",
    "    non_final_mask = torch.tensor(tuple(map(lambda s: s is not None,\n",
    "                                          batch.next_state)), dtype=torch.bool)\n",
    "    non_final_next_states = torch.cat([s for s in batch.next_state\n",
    "                                                if s is not None])\n",
    "   \n",
    "    non_final_next_states = torch.reshape(non_final_next_states,(int(non_final_next_states.shape[0]/2), 160))\n",
    "    \n",
    "    \n",
    "    state_batch = torch.reshape(torch.cat(batch.state),(BATCH_SIZE, 160))\n",
    "    action_batch = torch.reshape(torch.stack(batch.action), (BATCH_SIZE,1))\n",
    "    reward_batch = torch.cat(batch.reward)\n",
    "\n",
    "    # Compute Q(s_t, a) - the model computes Q(s_t), then we select the\n",
    "    # columns of actions taken. These are the actions which would've been taken\n",
    "    # for each batch state according to policy_net\n",
    "    state_action_values = policy_net(state_batch).gather(1, action_batch)\n",
    "\n",
    "    # Compute V(s_{t+1}) for all next states.\n",
    "    # Expected values of actions for non_final_next_states are computed based\n",
    "    # on the \"older\" target_net; selecting their best reward with max(1)[0].\n",
    "    # This is merged based on the mask, such that we'll have either the expected\n",
    "    # state value or 0 in case the state was final.\n",
    "    next_state_values = torch.zeros(BATCH_SIZE)\n",
    "    next_state_values[non_final_mask] = target_net(non_final_next_states).max(1)[0].detach()\n",
    "    # Compute the expected Q values\n",
    "    expected_state_action_values = (next_state_values * GAMMA) + reward_batch\n",
    "\n",
    "    # Compute Huber loss\n",
    "    loss = F.smooth_l1_loss(state_action_values.float(), expected_state_action_values.unsqueeze(1).float())\n",
    "\n",
    "    # Optimize the model\n",
    "    optimizer.zero_grad()\n",
    "    loss.backward()\n",
    "    for param in policy_net.parameters():\n",
    "        param.grad.data.clamp_(-1, 1)\n",
    "    optimizer.step()"
   ]
  },
  {
   "cell_type": "code",
   "execution_count": 24,
   "metadata": {},
   "outputs": [
    {
     "name": "stderr",
     "output_type": "stream",
     "text": [
      "  0%|                                                                                         | 0/1000 [00:00<?, ?it/s]C:\\Users\\marti\\AppData\\Roaming\\Python\\Python36\\site-packages\\ipykernel_launcher.py:29: UserWarning: To copy construct from a tensor, it is recommended to use sourceTensor.clone().detach() or sourceTensor.clone().detach().requires_grad_(True), rather than torch.tensor(sourceTensor).\n",
      "100%|██████████████████████████████████████████████████████████████████████████████| 1000/1000 [00:22<00:00, 45.22it/s]"
     ]
    },
    {
     "name": "stdout",
     "output_type": "stream",
     "text": [
      "Complete\n"
     ]
    },
    {
     "name": "stderr",
     "output_type": "stream",
     "text": [
      "\n"
     ]
    }
   ],
   "source": [
    "num_episodes = 1000\n",
    "\n",
    "episode_predicted_networks = []\n",
    "episode_best_true_networks = []\n",
    "episode_true_networks_r2 = []\n",
    "episode_rewards = []\n",
    "episode_max_possible_rewards = []\n",
    "episode_durations = [] \n",
    "\n",
    "for i_episode in tqdm(range(num_episodes)):\n",
    "    # Initialize the environment and state\n",
    "    env.reset(train=True)\n",
    "        \n",
    "    state = torch.from_numpy(env.current_observation)\n",
    "    \n",
    "    for i in range(80):\n",
    "        #print(state)\n",
    "        action = get_action(state.flatten().unsqueeze(0))\n",
    "        #print(action,i)\n",
    "        _, reward, done, _ = env.step(action)\n",
    "        reward = torch.tensor([reward])\n",
    "\n",
    "        next_state = torch.from_numpy(env.current_observation)\n",
    "        # Observe new state\n",
    "        \n",
    "        if done:\n",
    "            next_state = None\n",
    "\n",
    "        # Store the transition in memory\n",
    "        \n",
    "        success_push = memory.push(state,\n",
    "                    action, \n",
    "                    next_state, \n",
    "                    reward)\n",
    "    \n",
    "        # Move to the next state\n",
    "        state = next_state\n",
    "\n",
    "        # Perform one step of the optimization (on the target network)\n",
    "        optimize_model() \n",
    "        \n",
    "        if done:\n",
    "            \n",
    "            episode_predicted_network = env.history_action[-2].numpy()\n",
    "            episode_best_true_network = np.argmax(env.current_rewards)\n",
    "            episode_reward = sum(env.history_rewards)\n",
    "            episode_max_possible_reward = sum(env.history_max_possible_rewards)\n",
    "            \n",
    "            episode_predicted_networks.append(episode_predicted_network)\n",
    "            episode_true_networks_r2.append(env.current_rewards)\n",
    "            episode_best_true_networks.append(episode_best_true_network)\n",
    "            episode_rewards.append(episode_reward)\n",
    "            episode_max_possible_rewards.append(episode_max_possible_reward)\n",
    "            episode_durations.append(i + 1) \n",
    "            \n",
    "            break\n",
    "            \n",
    "        \n",
    "            \n",
    "    # Update the target network, copying all weights and biases in DQN\n",
    "    if i_episode % TARGET_UPDATE == 0:\n",
    "        target_net.load_state_dict(policy_net.state_dict())\n",
    "\n",
    "print('Complete')"
   ]
  },
  {
   "cell_type": "code",
   "execution_count": 25,
   "metadata": {},
   "outputs": [],
   "source": [
    "def calculate_topk(predicted_network, score_networks, k):\n",
    "    \n",
    "    in_topk = 0\n",
    "    \n",
    "    for predicted, scores in zip(predicted_network,score_networks):\n",
    "        \n",
    "        top_idx = np.argsort(scores)[-k:]\n",
    "        \n",
    "        if predicted in top_idx:\n",
    "            in_topk += 1\n",
    "            \n",
    "    return in_topk/len(predicted_network)  "
   ]
  },
  {
   "cell_type": "code",
   "execution_count": 26,
   "metadata": {},
   "outputs": [
    {
     "name": "stdout",
     "output_type": "stream",
     "text": [
      "Top1: 0.39 , Top 2: 0.815\n"
     ]
    }
   ],
   "source": [
    "top1 = calculate_topk(episode_predicted_networks[-200:], episode_true_networks_r2[-200:], k=1)\n",
    "top2 = calculate_topk(episode_predicted_networks[-200:], episode_true_networks_r2[-200:], k=2)\n",
    "print(\"Top1:\", top1,\", Top 2:\", top2)"
   ]
  },
  {
   "cell_type": "code",
   "execution_count": 27,
   "metadata": {},
   "outputs": [
    {
     "data": {
      "image/png": "[encoded data removed]",
      "text/plain": [
       "<Figure size 432x288 with 1 Axes>"
      ]
     },
     "metadata": {
      "needs_background": "light"
     },
     "output_type": "display_data"
    }
   ],
   "source": [
    "plt.bar(x = list(range(5)), height=np.bincount(np.array(episode_predicted_networks), minlength=5)/len(episode_predicted_networks))\n",
    "plt.title(\"Best network distribution (fitted agent)\")\n",
    "plt.xlabel(\"Architecture index\")\n",
    "plt.ylabel(\"Density\")\n",
    "plt.tight_layout()\n",
    "plt.savefig(f\"./figures/arch_distribution-predict.pdf\", dpi=1000)\n",
    "plt.show()"
   ]
  },
  {
   "cell_type": "code",
   "execution_count": 28,
   "metadata": {},
   "outputs": [],
   "source": [
    "def moving_average(x, w):\n",
    "    return np.convolve(x, np.ones(w), 'valid') / w\n",
    "\n",
    "filter_size = 11\n",
    "pad = int((filter_size - 1)/2)"
   ]
  },
  {
   "cell_type": "code",
   "execution_count": 29,
   "metadata": {},
   "outputs": [
    {
     "data": {
      "image/png": "[encoded data removed]",
      "text/plain": [
       "<Figure size 432x288 with 1 Axes>"
      ]
     },
     "metadata": {
      "needs_background": "light"
     },
     "output_type": "display_data"
    }
   ],
   "source": [
    "x_steps = np.linspace(0, num_episodes -1, num= num_episodes, dtype = int)\n",
    "plt.plot(x_steps, np.array(episode_max_possible_rewards) - np.array(episode_rewards), label=\"regret\")\n",
    "plt.plot(x_steps[pad:-pad], moving_average(np.array(episode_max_possible_rewards) - np.array(episode_rewards), filter_size), label=\"Mean regret (smoothed)\")\n",
    "envtype = \"random\" if SHUFFLE_SAMPLES else \"sequential\"\n",
    "plt.title(f\"DQN ({envtype} samples)\")\n",
    "plt.xlabel(\"Episode number\")\n",
    "plt.ylabel(\"Mean regret\")\n",
    "plt.legend()\n",
    "plt.tight_layout()\n",
    "\n",
    "plt.savefig(f\"./figures/regret-DQN-{envtype}.pdf\", dpi=1000)\n",
    "\n",
    "plt.show()"
   ]
  },
  {
   "cell_type": "code",
   "execution_count": 30,
   "metadata": {},
   "outputs": [
    {
     "data": {
      "image/png": "[encoded data removed]",
      "text/plain": [
       "<Figure size 432x288 with 1 Axes>"
      ]
     },
     "metadata": {
      "needs_background": "light"
     },
     "output_type": "display_data"
    }
   ],
   "source": [
    "plt.plot(x_steps, episode_durations,c='orange', label=\"Duration in steps\")\n",
    "plt.plot(x_steps[pad:-pad], moving_average(episode_durations, filter_size), label=\"Duration (smoothed)\")\n",
    "envtype = \"random\" if SHUFFLE_SAMPLES else \"sequential\"\n",
    "plt.title(f\"DQN ({envtype} samples)\")\n",
    "plt.xlabel(\"Episode number\")\n",
    "plt.ylabel(\"Episode length\")\n",
    "plt.legend()\n",
    "plt.tight_layout()\n",
    "\n",
    "plt.savefig(f\"./figures/duration-DQN-{envtype}.pdf\", dpi=1000)\n",
    "plt.show()"
   ]
  },
  {
   "cell_type": "code",
   "execution_count": null,
   "metadata": {},
   "outputs": [],
   "source": []
  }
 ],
 "metadata": {
  "kernelspec": {
   "display_name": "Python 3",
   "language": "python",
   "name": "python3"
  },
  "language_info": {
   "codemirror_mode": {
    "name": "ipython",
    "version": 3
   },
   "file_extension": ".py",
   "mimetype": "text/x-python",
   "name": "python",
   "nbconvert_exporter": "python",
   "pygments_lexer": "ipython3",
   "version": "3.6.12"
  },
  "toc": {
   "base_numbering": 1,
   "nav_menu": {},
   "number_sections": true,
   "sideBar": true,
   "skip_h1_title": false,
   "title_cell": "Table of Contents",
   "title_sidebar": "Contents",
   "toc_cell": false,
   "toc_position": {},
   "toc_section_display": true,
   "toc_window_display": false
  }
 },
 "nbformat": 4,
 "nbformat_minor": 4
}
